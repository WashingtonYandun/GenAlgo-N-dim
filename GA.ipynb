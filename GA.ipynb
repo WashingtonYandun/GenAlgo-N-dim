{
  "nbformat": 4,
  "nbformat_minor": 0,
  "metadata": {
    "colab": {
      "private_outputs": true,
      "provenance": []
    },
    "kernelspec": {
      "name": "python3",
      "display_name": "Python 3"
    },
    "language_info": {
      "name": "python"
    }
  },
  "cells": [
    {
      "cell_type": "markdown",
      "source": [
        "# Genetic algorithms from scratch\n",
        "\n",
        "Define the function to optimize"
      ],
      "metadata": {
        "id": "NAHnUzaAVEdU"
      }
    },
    {
      "cell_type": "code",
      "source": [
        "import numpy as np\n",
        "import matplotlib.pyplot as plt\n",
        "\n",
        "def func(x, y):\n",
        "    return np.sin(x * y) / (np.abs(x) + np.abs(y - 1) + 1e-50) + 1\n",
        "\n",
        "x, y = np.meshgrid(np.arange(-5, 5.05, 0.05), np.arange(-5, 5.05, 0.05))\n",
        "z = func(x, y)\n",
        "\n",
        "fig, ax = plt.subplots(subplot_kw={\"projection\": \"3d\"})\n",
        "p = ax.plot_surface(x, y, z, cmap=plt.cm.coolwarm)"
      ],
      "metadata": {
        "id": "lz9-y_sLTBGl"
      },
      "execution_count": null,
      "outputs": []
    },
    {
      "cell_type": "markdown",
      "source": [
        "Some useful functions"
      ],
      "metadata": {
        "id": "74ulEjhyVLgL"
      }
    },
    {
      "cell_type": "code",
      "source": [
        "def fitness(people):\n",
        "    return func(people[:, 0], people[:, 1])\n",
        "\n",
        "def roulette(vals):\n",
        "    threshold = np.random.rand() * np.sum(vals)\n",
        "    acc = 0\n",
        "    for i in range(len(vals)):\n",
        "        acc += vals[i]\n",
        "        if acc > threshold:\n",
        "            return i\n",
        "    return len(vals) - 1\n",
        "\n",
        "def crossover(parent1, parent2):\n",
        "    child1 = [parent1[0], parent2[1]]\n",
        "    child2 = [parent2[0], parent1[1]]\n",
        "    return np.array([child1, child2])\n",
        "\n",
        "def mutation(child, prob):\n",
        "    nc1, nc2 = child\n",
        "    if np.random.rand() < prob:\n",
        "        nc1 += 0.02 * np.random.randn()\n",
        "    if np.random.rand() < prob:\n",
        "        nc2 += 0.02 * np.random.randn()\n",
        "    return np.array([nc1, nc2])"
      ],
      "metadata": {
        "id": "r4EJB188U-yE"
      },
      "execution_count": null,
      "outputs": []
    },
    {
      "cell_type": "markdown",
      "source": [
        "Main algorithm"
      ],
      "metadata": {
        "id": "GsQBitHBacxI"
      }
    },
    {
      "cell_type": "code",
      "execution_count": null,
      "metadata": {
        "id": "iKmzmnZ2Szsi"
      },
      "outputs": [],
      "source": [
        "from copy import deepcopy\n",
        "\n",
        "# Create initial population\n",
        "pop_size = 100\n",
        "population = np.random.randn(pop_size, 2)\n",
        "new_people = np.zeros((pop_size, 2))\n",
        "evolution = []\n",
        "\n",
        "for n in range(400):\n",
        "    # Evaluation of solutions\n",
        "    fit = fitness(population)\n",
        "    m, idx = np.max(fit), np.argmax(fit)\n",
        "    evolution.append(m)\n",
        "    best = deepcopy(population[idx, :])\n",
        "\n",
        "    # Crossover\n",
        "    for i in range(0, pop_size, 2):\n",
        "        parent1 = population[roulette(fit), :]\n",
        "        parent2 = population[roulette(fit), :]\n",
        "        new_people[i:i + 2, :] = crossover(parent1, parent2)\n",
        "\n",
        "    # Mutation\n",
        "    for i in range(pop_size):\n",
        "        population[i, :] = mutation(new_people[i, :], 0.1)\n",
        "\n",
        "    # Elitism\n",
        "    m, idx = np.min(fitness(population)), np.argmin(fitness(population))\n",
        "    population[idx, :] = best\n",
        "\n",
        "# Final verification\n",
        "m, idx = np.max(fitness(population)), np.argmax(fitness(population))\n",
        "evolution.append(m)\n",
        "\n",
        "# Plot evolution\n",
        "plt.plot(range(401), evolution)\n",
        "print(f'({population[idx, 0]}, {population[idx, 1]}) -> {m}')\n"
      ]
    },
    {
      "cell_type": "markdown",
      "source": [
        "**Assignment**: Optimize the function `onemax` over sequences of 20 bits"
      ],
      "metadata": {
        "id": "htx6quqTYFgo"
      }
    },
    {
      "cell_type": "code",
      "source": [
        "n_pop = 10\n",
        "n_bits = 20\n",
        "pop = np.random.randint(0, 2, (n_pop, n_bits))"
      ],
      "metadata": {
        "id": "ycgEmDKpYRjI"
      },
      "execution_count": null,
      "outputs": []
    },
    {
      "cell_type": "code",
      "source": [
        "def onemax(x):\n",
        "  return np.sum(x, axis=1)\n",
        "\n",
        "print(pop)\n",
        "onemax(pop)"
      ],
      "metadata": {
        "id": "tbldT26YZB01"
      },
      "execution_count": null,
      "outputs": []
    }
  ]
}